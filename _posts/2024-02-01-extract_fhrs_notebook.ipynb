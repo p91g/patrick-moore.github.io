---
title: "Web-scraping Food Health Rating System data"
excerpt: "Web-scraping tutorial using Python "
collection: posts
---

{
 "cells": [
  {
   "cell_type": "code",
   "execution_count": 1,
   "metadata": {},
   "outputs": [],
   "source": [
    "import requests\n",
    "import pandas as pd\n",
    "import xml.etree.ElementTree as ET"
   ]
  },
  {
   "cell_type": "markdown",
   "metadata": {},
   "source": [
    "The goal of this script is to gather data on restaurants and cafes to analyse their proximity to bikeshare stations. The thinking is that the closer these amenities are to bikeshare stations, the higher the likelihood that people will use bikeshare stations. These will be used as input to the statistical models. \n",
    "\n",
    "The script fetches data from several URLs that provide XML files containing information about food establishments in different regions. It parses this XML data to extract specific details like the type of business and their geocode information (latitude and longitude)."
   ]
  },
  {
   "cell_type": "code",
   "execution_count": 2,
   "metadata": {},
   "outputs": [],
   "source": [
    "# URL of the XML data\n",
    "lec_url = 'https://ratings.food.gov.uk/api/open-data-files/FHRS878en-GB.xml'\n"
   ]
  },
  {
   "cell_type": "code",
   "execution_count": 5,
   "metadata": {},
   "outputs": [],
   "source": [
    "\n",
    "# Function to parse the XML and extract geocode information\n",
    "def parse_geocode_and_business_type(url):\n",
    "    response = requests.get(url)\n",
    "    xml_data = response.content\n",
    "    # Parse the XML data\n",
    "    root = ET.fromstring(xml_data)\n",
    "    \n",
    "    data = []\n",
    "    for establishment in root.find('EstablishmentCollection'):\n",
    "        info = {}\n",
    "        business_type_element = establishment.find('BusinessType')\n",
    "        geocode_element = establishment.find('Geocode')\n",
    "        \n",
    "        # Extract BusinessType\n",
    "        if business_type_element is not None:\n",
    "            info['BusinessType'] = business_type_element.text\n",
    "        \n",
    "        # Extract Geocode\n",
    "        if geocode_element is not None:\n",
    "            longitude = geocode_element.find('Longitude')\n",
    "            latitude = geocode_element.find('Latitude')\n",
    "            info['Longitude'] = longitude.text if longitude is not None else None\n",
    "            info['Latitude'] = latitude.text if latitude is not None else None\n",
    "        \n",
    "        if info:\n",
    "            data.append(info)\n",
    "            \n",
    "    return pd.DataFrame(data)"
   ]
  },
  {
   "cell_type": "code",
   "execution_count": null,
   "metadata": {},
   "outputs": [],
   "source": [
    "# Extract geocode and BusinessType information\n",
    "lec_data = parse_geocode_and_business_type(lec_url)"
   ]
  },
  {
   "cell_type": "code",
   "execution_count": 9,
   "metadata": {},
   "outputs": [
    {
     "data": {
      "text/html": [
       "<div>\n",
       "<style scoped>\n",
       "    .dataframe tbody tr th:only-of-type {\n",
       "        vertical-align: middle;\n",
       "    }\n",
       "\n",
       "    .dataframe tbody tr th {\n",
       "        vertical-align: top;\n",
       "    }\n",
       "\n",
       "    .dataframe thead th {\n",
       "        text-align: right;\n",
       "    }\n",
       "</style>\n",
       "<table border=\"1\" class=\"dataframe\">\n",
       "  <thead>\n",
       "    <tr style=\"text-align: right;\">\n",
       "      <th></th>\n",
       "      <th>BusinessType</th>\n",
       "      <th>Longitude</th>\n",
       "      <th>Latitude</th>\n",
       "    </tr>\n",
       "  </thead>\n",
       "  <tbody>\n",
       "    <tr>\n",
       "      <th>0</th>\n",
       "      <td>Retailers - other</td>\n",
       "      <td>-1.1020398</td>\n",
       "      <td>52.6307377</td>\n",
       "    </tr>\n",
       "    <tr>\n",
       "      <th>4</th>\n",
       "      <td>Restaurant/Cafe/Canteen</td>\n",
       "      <td>-1.195841</td>\n",
       "      <td>52.630674</td>\n",
       "    </tr>\n",
       "    <tr>\n",
       "      <th>5</th>\n",
       "      <td>Restaurant/Cafe/Canteen</td>\n",
       "      <td>-1.138173</td>\n",
       "      <td>52.63595</td>\n",
       "    </tr>\n",
       "    <tr>\n",
       "      <th>6</th>\n",
       "      <td>Takeaway/sandwich shop</td>\n",
       "      <td>-1.098696</td>\n",
       "      <td>52.667985</td>\n",
       "    </tr>\n",
       "    <tr>\n",
       "      <th>7</th>\n",
       "      <td>Restaurant/Cafe/Canteen</td>\n",
       "      <td>-1.133267</td>\n",
       "      <td>52.632974</td>\n",
       "    </tr>\n",
       "    <tr>\n",
       "      <th>...</th>\n",
       "      <td>...</td>\n",
       "      <td>...</td>\n",
       "      <td>...</td>\n",
       "    </tr>\n",
       "    <tr>\n",
       "      <th>3094</th>\n",
       "      <td>Restaurant/Cafe/Canteen</td>\n",
       "      <td>-1.132681</td>\n",
       "      <td>52.622281</td>\n",
       "    </tr>\n",
       "    <tr>\n",
       "      <th>3095</th>\n",
       "      <td>Other catering premises</td>\n",
       "      <td>-1.131804</td>\n",
       "      <td>52.5982627</td>\n",
       "    </tr>\n",
       "    <tr>\n",
       "      <th>3096</th>\n",
       "      <td>Retailers - other</td>\n",
       "      <td>-1.1540655</td>\n",
       "      <td>52.6283514</td>\n",
       "    </tr>\n",
       "    <tr>\n",
       "      <th>3099</th>\n",
       "      <td>Restaurant/Cafe/Canteen</td>\n",
       "      <td>-1.138505</td>\n",
       "      <td>52.636357</td>\n",
       "    </tr>\n",
       "    <tr>\n",
       "      <th>3100</th>\n",
       "      <td>Takeaway/sandwich shop</td>\n",
       "      <td>-1.132277</td>\n",
       "      <td>52.631502</td>\n",
       "    </tr>\n",
       "  </tbody>\n",
       "</table>\n",
       "<p>2834 rows × 3 columns</p>\n",
       "</div>"
      ],
      "text/plain": [
       "                 BusinessType   Longitude    Latitude\n",
       "0           Retailers - other  -1.1020398  52.6307377\n",
       "4     Restaurant/Cafe/Canteen   -1.195841   52.630674\n",
       "5     Restaurant/Cafe/Canteen   -1.138173    52.63595\n",
       "6      Takeaway/sandwich shop   -1.098696   52.667985\n",
       "7     Restaurant/Cafe/Canteen   -1.133267   52.632974\n",
       "...                       ...         ...         ...\n",
       "3094  Restaurant/Cafe/Canteen   -1.132681   52.622281\n",
       "3095  Other catering premises   -1.131804  52.5982627\n",
       "3096        Retailers - other  -1.1540655  52.6283514\n",
       "3099  Restaurant/Cafe/Canteen   -1.138505   52.636357\n",
       "3100   Takeaway/sandwich shop   -1.132277   52.631502\n",
       "\n",
       "[2834 rows x 3 columns]"
      ]
     },
     "execution_count": 9,
     "metadata": {},
     "output_type": "execute_result"
    }
   ],
   "source": [
    "# Checking Leicester\n",
    "lec_data = parse_geocode_and_business_type(lec_url).dropna(subset='Longitude')\n",
    "lec_data"
   ]
  }
 ],
 "metadata": {
  "kernelspec": {
   "display_name": "geo_env",
   "language": "python",
   "name": "python3"
  },
  "language_info": {
   "codemirror_mode": {
    "name": "ipython",
    "version": 3
   },
   "file_extension": ".py",
   "mimetype": "text/x-python",
   "name": "python",
   "nbconvert_exporter": "python",
   "pygments_lexer": "ipython3",
   "version": "3.9.12"
  }
 },
 "nbformat": 4,
 "nbformat_minor": 2
}
